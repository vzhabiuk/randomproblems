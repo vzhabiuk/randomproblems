{
 "cells": [
  {
   "cell_type": "code",
   "execution_count": 2,
   "metadata": {
    "collapsed": true
   },
   "outputs": [],
   "source": [
    "def problem():                                 # S O L V E D\n",
    "    print (\"Number of lines: \")\n",
    "    num = int(input())\n",
    "    dot = \".\"\n",
    "    dotnum = 1\n",
    "    half = int(num//2)\n",
    "    if num < 1:\n",
    "        print('Num is invalid.')\n",
    "        return   \n",
    "    if (num//2 * 2) != num:\n",
    "        for i in range(1, num+1):\n",
    "            print (dot*dotnum)\n",
    "            if i <= half:\n",
    "                dotnum = dotnum+1\n",
    "            if i > half:\n",
    "                print (dot*(dotnum-1))\n",
    "                dotnum = dotnum-2 \n",
    "    elif (num//2 * 2) == num:\n",
    "        for i in range(1, num+1):\n",
    "            print (dot*dotnum)\n",
    "            if i == half:\n",
    "                print (dot*(dotnum))\n",
    "                dotnum = dotnum-2 \n",
    "            if i <= half:\n",
    "                dotnum = dotnum+1\n",
    "            if i > half:\n",
    "                print (dot*(dotnum-1))\n",
    "                dotnum = dotnum-2 \n"
   ]
  },
  {
   "cell_type": "code",
   "execution_count": 3,
   "metadata": {},
   "outputs": [
    {
     "name": "stdout",
     "output_type": "stream",
     "text": [
      "Number of lines: \n",
      "68\n",
      ".\n",
      "..\n",
      "...\n",
      "....\n",
      ".....\n",
      "......\n",
      ".......\n",
      "........\n",
      ".........\n",
      "..........\n",
      "...........\n",
      "............\n",
      ".............\n",
      "..............\n",
      "...............\n",
      "................\n",
      ".................\n",
      "..................\n",
      "...................\n",
      "....................\n",
      ".....................\n",
      "......................\n",
      ".......................\n",
      "........................\n",
      ".........................\n",
      "..........................\n",
      "...........................\n",
      "............................\n",
      ".............................\n",
      "..............................\n",
      "...............................\n",
      "................................\n",
      ".................................\n",
      "..................................\n",
      "..................................\n",
      ".................................\n",
      "................................\n",
      "...............................\n",
      "..............................\n",
      ".............................\n",
      "............................\n",
      "...........................\n",
      "..........................\n",
      ".........................\n",
      "........................\n",
      ".......................\n",
      "......................\n",
      ".....................\n",
      "....................\n",
      "...................\n",
      "..................\n",
      ".................\n",
      "................\n",
      "...............\n",
      "..............\n",
      ".............\n",
      "............\n",
      "...........\n",
      "..........\n",
      ".........\n",
      "........\n",
      ".......\n",
      "......\n",
      ".....\n",
      "....\n",
      "...\n",
      "..\n",
      ".\n",
      "\n",
      "\n",
      "\n",
      "\n",
      "\n",
      "\n",
      "\n",
      "\n",
      "\n",
      "\n",
      "\n",
      "\n",
      "\n",
      "\n",
      "\n",
      "\n",
      "\n",
      "\n",
      "\n",
      "\n",
      "\n",
      "\n",
      "\n",
      "\n",
      "\n",
      "\n",
      "\n",
      "\n",
      "\n",
      "\n",
      "\n",
      "\n",
      "\n",
      "\n",
      "\n"
     ]
    }
   ],
   "source": [
    "problem()"
   ]
  },
  {
   "cell_type": "code",
   "execution_count": null,
   "metadata": {
    "collapsed": true
   },
   "outputs": [],
   "source": []
  },
  {
   "cell_type": "code",
   "execution_count": null,
   "metadata": {
    "collapsed": true
   },
   "outputs": [],
   "source": []
  },
  {
   "cell_type": "code",
   "execution_count": null,
   "metadata": {
    "collapsed": true
   },
   "outputs": [],
   "source": []
  },
  {
   "cell_type": "code",
   "execution_count": null,
   "metadata": {
    "collapsed": true
   },
   "outputs": [],
   "source": []
  },
  {
   "cell_type": "code",
   "execution_count": null,
   "metadata": {
    "collapsed": true
   },
   "outputs": [],
   "source": []
  },
  {
   "cell_type": "code",
   "execution_count": null,
   "metadata": {
    "collapsed": true
   },
   "outputs": [],
   "source": []
  }
 ],
 "metadata": {
  "kernelspec": {
   "display_name": "Python 3",
   "language": "python",
   "name": "python3"
  },
  "language_info": {
   "codemirror_mode": {
    "name": "ipython",
    "version": 3
   },
   "file_extension": ".py",
   "mimetype": "text/x-python",
   "name": "python",
   "nbconvert_exporter": "python",
   "pygments_lexer": "ipython3",
   "version": "3.6.2"
  }
 },
 "nbformat": 4,
 "nbformat_minor": 2
}
